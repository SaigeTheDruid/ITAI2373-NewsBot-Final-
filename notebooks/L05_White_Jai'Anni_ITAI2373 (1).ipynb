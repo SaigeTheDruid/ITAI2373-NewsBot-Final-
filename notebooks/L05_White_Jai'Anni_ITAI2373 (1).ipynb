{
  "cells": [
    {
      "cell_type": "markdown",
      "id": "0173ac91",
      "metadata": {
        "id": "0173ac91"
      },
      "source": [
        "\n",
        "# ITAI 2373 Module 05: Part-of-Speech Tagging\n",
        "## In-Class Exercise & Homework Lab\n",
        "\n",
        "Welcome to the world of Part-of-Speech (POS) tagging - the \"grammar police\" of Natural Language Processing! 🚔📝\n",
        "\n",
        "In this notebook, you'll explore how computers understand the grammatical roles of words in sentences, from simple rule-based approaches to modern AI systems.\n",
        "\n",
        "### What You'll Learn:\n",
        "- **Understand POS tagging fundamentals** and why it matters in daily apps\n",
        "- **Use NLTK and SpaCy** for practical text analysis\n",
        "- **Navigate different tag sets** and understand their trade-offs\n",
        "- **Handle real-world messy text** like speech transcripts and social media\n",
        "- **Apply POS tagging** to solve actual business problems\n",
        "\n",
        "### Structure:\n",
        "- **Part 1**: In-Class Exercise (30-45 minutes) - Basic concepts and hands-on practice\n",
        "- **Part 2**: Homework Lab - Real-world applications and advanced challenges\n",
        "\n",
        "---\n",
        "\n",
        "*💡 **Pro Tip**: POS tagging is everywhere! It helps search engines understand \"Apple stock\" vs \"apple pie\", helps Siri understand your commands, and powers autocorrect on your phone.*\n"
      ]
    },
    {
      "cell_type": "markdown",
      "id": "35d96f92",
      "metadata": {
        "id": "35d96f92"
      },
      "source": [
        "\n",
        "## 🛠️ Setup and Installation\n",
        "\n",
        "Let's get our tools ready! We'll use two powerful libraries:\n",
        "- **NLTK**: The \"Swiss Army knife\" of NLP - comprehensive but requires setup\n",
        "- **SpaCy**: The \"speed demon\" - built for production, cleaner output\n",
        "\n",
        "Run the cells below to install and set up everything we need.\n"
      ]
    },
    {
      "cell_type": "code",
      "execution_count": 1,
      "id": "2a5f81ea",
      "metadata": {
        "id": "2a5f81ea",
        "colab": {
          "base_uri": "https://localhost:8080/"
        },
        "outputId": "9a3ee7bb-b886-4682-c7dc-91003aaeaa93"
      },
      "outputs": [
        {
          "output_type": "stream",
          "name": "stdout",
          "text": [
            "Requirement already satisfied: nltk in /usr/local/lib/python3.11/dist-packages (3.9.1)\n",
            "Requirement already satisfied: spacy in /usr/local/lib/python3.11/dist-packages (3.8.7)\n",
            "Requirement already satisfied: matplotlib in /usr/local/lib/python3.11/dist-packages (3.10.0)\n",
            "Requirement already satisfied: seaborn in /usr/local/lib/python3.11/dist-packages (0.13.2)\n",
            "Requirement already satisfied: pandas in /usr/local/lib/python3.11/dist-packages (2.2.2)\n",
            "Requirement already satisfied: click in /usr/local/lib/python3.11/dist-packages (from nltk) (8.2.1)\n",
            "Requirement already satisfied: joblib in /usr/local/lib/python3.11/dist-packages (from nltk) (1.5.1)\n",
            "Requirement already satisfied: regex>=2021.8.3 in /usr/local/lib/python3.11/dist-packages (from nltk) (2024.11.6)\n",
            "Requirement already satisfied: tqdm in /usr/local/lib/python3.11/dist-packages (from nltk) (4.67.1)\n",
            "Requirement already satisfied: spacy-legacy<3.1.0,>=3.0.11 in /usr/local/lib/python3.11/dist-packages (from spacy) (3.0.12)\n",
            "Requirement already satisfied: spacy-loggers<2.0.0,>=1.0.0 in /usr/local/lib/python3.11/dist-packages (from spacy) (1.0.5)\n",
            "Requirement already satisfied: murmurhash<1.1.0,>=0.28.0 in /usr/local/lib/python3.11/dist-packages (from spacy) (1.0.13)\n",
            "Requirement already satisfied: cymem<2.1.0,>=2.0.2 in /usr/local/lib/python3.11/dist-packages (from spacy) (2.0.11)\n",
            "Requirement already satisfied: preshed<3.1.0,>=3.0.2 in /usr/local/lib/python3.11/dist-packages (from spacy) (3.0.10)\n",
            "Requirement already satisfied: thinc<8.4.0,>=8.3.4 in /usr/local/lib/python3.11/dist-packages (from spacy) (8.3.6)\n",
            "Requirement already satisfied: wasabi<1.2.0,>=0.9.1 in /usr/local/lib/python3.11/dist-packages (from spacy) (1.1.3)\n",
            "Requirement already satisfied: srsly<3.0.0,>=2.4.3 in /usr/local/lib/python3.11/dist-packages (from spacy) (2.5.1)\n",
            "Requirement already satisfied: catalogue<2.1.0,>=2.0.6 in /usr/local/lib/python3.11/dist-packages (from spacy) (2.0.10)\n",
            "Requirement already satisfied: weasel<0.5.0,>=0.1.0 in /usr/local/lib/python3.11/dist-packages (from spacy) (0.4.1)\n",
            "Requirement already satisfied: typer<1.0.0,>=0.3.0 in /usr/local/lib/python3.11/dist-packages (from spacy) (0.16.0)\n",
            "Requirement already satisfied: numpy>=1.19.0 in /usr/local/lib/python3.11/dist-packages (from spacy) (2.0.2)\n",
            "Requirement already satisfied: requests<3.0.0,>=2.13.0 in /usr/local/lib/python3.11/dist-packages (from spacy) (2.32.3)\n",
            "Requirement already satisfied: pydantic!=1.8,!=1.8.1,<3.0.0,>=1.7.4 in /usr/local/lib/python3.11/dist-packages (from spacy) (2.11.7)\n",
            "Requirement already satisfied: jinja2 in /usr/local/lib/python3.11/dist-packages (from spacy) (3.1.6)\n",
            "Requirement already satisfied: setuptools in /usr/local/lib/python3.11/dist-packages (from spacy) (75.2.0)\n",
            "Requirement already satisfied: packaging>=20.0 in /usr/local/lib/python3.11/dist-packages (from spacy) (24.2)\n",
            "Requirement already satisfied: langcodes<4.0.0,>=3.2.0 in /usr/local/lib/python3.11/dist-packages (from spacy) (3.5.0)\n",
            "Requirement already satisfied: contourpy>=1.0.1 in /usr/local/lib/python3.11/dist-packages (from matplotlib) (1.3.2)\n",
            "Requirement already satisfied: cycler>=0.10 in /usr/local/lib/python3.11/dist-packages (from matplotlib) (0.12.1)\n",
            "Requirement already satisfied: fonttools>=4.22.0 in /usr/local/lib/python3.11/dist-packages (from matplotlib) (4.58.4)\n",
            "Requirement already satisfied: kiwisolver>=1.3.1 in /usr/local/lib/python3.11/dist-packages (from matplotlib) (1.4.8)\n",
            "Requirement already satisfied: pillow>=8 in /usr/local/lib/python3.11/dist-packages (from matplotlib) (11.2.1)\n",
            "Requirement already satisfied: pyparsing>=2.3.1 in /usr/local/lib/python3.11/dist-packages (from matplotlib) (3.2.3)\n",
            "Requirement already satisfied: python-dateutil>=2.7 in /usr/local/lib/python3.11/dist-packages (from matplotlib) (2.9.0.post0)\n",
            "Requirement already satisfied: pytz>=2020.1 in /usr/local/lib/python3.11/dist-packages (from pandas) (2025.2)\n",
            "Requirement already satisfied: tzdata>=2022.7 in /usr/local/lib/python3.11/dist-packages (from pandas) (2025.2)\n",
            "Requirement already satisfied: language-data>=1.2 in /usr/local/lib/python3.11/dist-packages (from langcodes<4.0.0,>=3.2.0->spacy) (1.3.0)\n",
            "Requirement already satisfied: annotated-types>=0.6.0 in /usr/local/lib/python3.11/dist-packages (from pydantic!=1.8,!=1.8.1,<3.0.0,>=1.7.4->spacy) (0.7.0)\n",
            "Requirement already satisfied: pydantic-core==2.33.2 in /usr/local/lib/python3.11/dist-packages (from pydantic!=1.8,!=1.8.1,<3.0.0,>=1.7.4->spacy) (2.33.2)\n",
            "Requirement already satisfied: typing-extensions>=4.12.2 in /usr/local/lib/python3.11/dist-packages (from pydantic!=1.8,!=1.8.1,<3.0.0,>=1.7.4->spacy) (4.14.0)\n",
            "Requirement already satisfied: typing-inspection>=0.4.0 in /usr/local/lib/python3.11/dist-packages (from pydantic!=1.8,!=1.8.1,<3.0.0,>=1.7.4->spacy) (0.4.1)\n",
            "Requirement already satisfied: six>=1.5 in /usr/local/lib/python3.11/dist-packages (from python-dateutil>=2.7->matplotlib) (1.17.0)\n",
            "Requirement already satisfied: charset-normalizer<4,>=2 in /usr/local/lib/python3.11/dist-packages (from requests<3.0.0,>=2.13.0->spacy) (3.4.2)\n",
            "Requirement already satisfied: idna<4,>=2.5 in /usr/local/lib/python3.11/dist-packages (from requests<3.0.0,>=2.13.0->spacy) (3.10)\n",
            "Requirement already satisfied: urllib3<3,>=1.21.1 in /usr/local/lib/python3.11/dist-packages (from requests<3.0.0,>=2.13.0->spacy) (2.4.0)\n",
            "Requirement already satisfied: certifi>=2017.4.17 in /usr/local/lib/python3.11/dist-packages (from requests<3.0.0,>=2.13.0->spacy) (2025.6.15)\n",
            "Requirement already satisfied: blis<1.4.0,>=1.3.0 in /usr/local/lib/python3.11/dist-packages (from thinc<8.4.0,>=8.3.4->spacy) (1.3.0)\n",
            "Requirement already satisfied: confection<1.0.0,>=0.0.1 in /usr/local/lib/python3.11/dist-packages (from thinc<8.4.0,>=8.3.4->spacy) (0.1.5)\n",
            "Requirement already satisfied: shellingham>=1.3.0 in /usr/local/lib/python3.11/dist-packages (from typer<1.0.0,>=0.3.0->spacy) (1.5.4)\n",
            "Requirement already satisfied: rich>=10.11.0 in /usr/local/lib/python3.11/dist-packages (from typer<1.0.0,>=0.3.0->spacy) (13.9.4)\n",
            "Requirement already satisfied: cloudpathlib<1.0.0,>=0.7.0 in /usr/local/lib/python3.11/dist-packages (from weasel<0.5.0,>=0.1.0->spacy) (0.21.1)\n",
            "Requirement already satisfied: smart-open<8.0.0,>=5.2.1 in /usr/local/lib/python3.11/dist-packages (from weasel<0.5.0,>=0.1.0->spacy) (7.1.0)\n",
            "Requirement already satisfied: MarkupSafe>=2.0 in /usr/local/lib/python3.11/dist-packages (from jinja2->spacy) (3.0.2)\n",
            "Requirement already satisfied: marisa-trie>=1.1.0 in /usr/local/lib/python3.11/dist-packages (from language-data>=1.2->langcodes<4.0.0,>=3.2.0->spacy) (1.2.1)\n",
            "Requirement already satisfied: markdown-it-py>=2.2.0 in /usr/local/lib/python3.11/dist-packages (from rich>=10.11.0->typer<1.0.0,>=0.3.0->spacy) (3.0.0)\n",
            "Requirement already satisfied: pygments<3.0.0,>=2.13.0 in /usr/local/lib/python3.11/dist-packages (from rich>=10.11.0->typer<1.0.0,>=0.3.0->spacy) (2.19.2)\n",
            "Requirement already satisfied: wrapt in /usr/local/lib/python3.11/dist-packages (from smart-open<8.0.0,>=5.2.1->weasel<0.5.0,>=0.1.0->spacy) (1.17.2)\n",
            "Requirement already satisfied: mdurl~=0.1 in /usr/local/lib/python3.11/dist-packages (from markdown-it-py>=2.2.0->rich>=10.11.0->typer<1.0.0,>=0.3.0->spacy) (0.1.2)\n",
            "Collecting en-core-web-sm==3.8.0\n",
            "  Using cached https://github.com/explosion/spacy-models/releases/download/en_core_web_sm-3.8.0/en_core_web_sm-3.8.0-py3-none-any.whl (12.8 MB)\n",
            "\u001b[38;5;2m✔ Download and installation successful\u001b[0m\n",
            "You can now load the package via spacy.load('en_core_web_sm')\n",
            "\u001b[38;5;3m⚠ Restart to reload dependencies\u001b[0m\n",
            "If you are in a Jupyter or Colab notebook, you may need to restart Python in\n",
            "order to load all the package's dependencies. You can do this by selecting the\n",
            "'Restart kernel' or 'Restart runtime' option.\n",
            "✅ Installation complete!\n"
          ]
        }
      ],
      "source": [
        "\n",
        "# Install required libraries (run this first!)\n",
        "!pip install nltk spacy matplotlib seaborn pandas\n",
        "!python -m spacy download en_core_web_sm\n",
        "\n",
        "print(\"✅ Installation complete!\")\n"
      ]
    },
    {
      "cell_type": "code",
      "execution_count": 2,
      "id": "a1135905",
      "metadata": {
        "id": "a1135905",
        "colab": {
          "base_uri": "https://localhost:8080/"
        },
        "outputId": "d2232c6c-adba-469f-9d2f-569185e92232"
      },
      "outputs": [
        {
          "output_type": "stream",
          "name": "stderr",
          "text": [
            "[nltk_data] Downloading package punkt to /root/nltk_data...\n",
            "[nltk_data]   Unzipping tokenizers/punkt.zip.\n",
            "[nltk_data] Downloading package averaged_perceptron_tagger to\n",
            "[nltk_data]     /root/nltk_data...\n",
            "[nltk_data]   Unzipping taggers/averaged_perceptron_tagger.zip.\n",
            "[nltk_data] Downloading package universal_tagset to /root/nltk_data...\n",
            "[nltk_data]   Unzipping taggers/universal_tagset.zip.\n"
          ]
        },
        {
          "output_type": "stream",
          "name": "stdout",
          "text": [
            "🎉 All libraries loaded successfully!\n",
            "📚 NLTK version: 3.9.1\n",
            "🚀 SpaCy version: 3.8.7\n"
          ]
        }
      ],
      "source": [
        "# Import all the libraries we'll need\n",
        "import nltk\n",
        "import spacy\n",
        "import pandas as pd\n",
        "import matplotlib.pyplot as plt\n",
        "import seaborn as sns\n",
        "from collections import Counter\n",
        "import warnings\n",
        "warnings.filterwarnings('ignore')\n",
        "\n",
        "# Download NLTK data (this might take a moment)\n",
        "nltk.download('punkt_tab')\n",
        "nltk.download('averaged_perceptron_tagger')\n",
        "nltk.download('universal_tagset')\n",
        "\n",
        "# Load SpaCy model\n",
        "nlp = spacy.load('en_core_web_sm')\n",
        "\n",
        "print(\"🎉 All libraries loaded successfully!\")\n",
        "print(\"📚 NLTK version:\", nltk.__version__)\n",
        "print(\"🚀 SpaCy version:\", spacy.__version__)"
      ]
    },
    {
      "cell_type": "markdown",
      "id": "c816a7ce",
      "metadata": {
        "id": "c816a7ce"
      },
      "source": [
        "\n",
        "---\n",
        "# 🎯 PART 1: IN-CLASS EXERCISE (30-45 minutes)\n",
        "\n",
        "Welcome to the hands-on portion! We'll start with the basics and build up your understanding step by step.\n",
        "\n",
        "## Learning Goals for Part 1:\n",
        "1. Understand what POS tagging does\n",
        "2. Use NLTK and SpaCy for basic tagging\n",
        "3. Interpret and compare different tag outputs\n",
        "4. Explore word ambiguity with real examples\n",
        "5. Compare different tagging approaches\n"
      ]
    },
    {
      "cell_type": "markdown",
      "id": "76538fce",
      "metadata": {
        "id": "76538fce"
      },
      "source": [
        "\n",
        "## 🔍 Activity 1: Your First POS Tags (10 minutes)\n",
        "\n",
        "Let's start with the classic example: \"The quick brown fox jumps over the lazy dog\"\n",
        "\n",
        "This sentence contains most common parts of speech, making it perfect for learning!\n"
      ]
    },
    {
      "cell_type": "code",
      "execution_count": 14,
      "id": "6d12c1b4",
      "metadata": {
        "id": "6d12c1b4",
        "colab": {
          "base_uri": "https://localhost:8080/"
        },
        "outputId": "30c1bd82-62d5-474a-bb50-64edc499c61e"
      },
      "outputs": [
        {
          "output_type": "stream",
          "name": "stderr",
          "text": [
            "[nltk_data] Downloading package averaged_perceptron_tagger_eng to\n",
            "[nltk_data]     /root/nltk_data...\n",
            "[nltk_data]   Unzipping taggers/averaged_perceptron_tagger_eng.zip.\n"
          ]
        },
        {
          "output_type": "stream",
          "name": "stdout",
          "text": [
            "Original sentence: The quick brown fox jumps over the lazy dog\n",
            "\n",
            "Tokens: ['The', 'quick', 'brown', 'fox', 'jumps', 'over', 'the', 'lazy', 'dog']\n",
            "\n",
            "POS Tags:\n",
            "  The      -> DT\n",
            "  quick    -> JJ\n",
            "  brown    -> NN\n",
            "  fox      -> NN\n",
            "  jumps    -> VBZ\n",
            "  over     -> IN\n",
            "  the      -> DT\n",
            "  lazy     -> JJ\n",
            "  dog      -> NN\n"
          ]
        }
      ],
      "source": [
        "\n",
        "# Let's start with a classic example\n",
        "sentence = \"The quick brown fox jumps over the lazy dog\"\n",
        "\n",
        "# TODO: Use NLTK to tokenize and tag the sentence\n",
        "# Hint: Use nltk.word_tokenize() and nltk.pos_tag()\n",
        "import nltk\n",
        "nltk.download('averaged_perceptron_tagger_eng')\n",
        "tokens = nltk.word_tokenize(sentence)\n",
        "pos_tags = nltk.pos_tag(tokens)\n",
        "\n",
        "print(\"Original sentence:\", sentence)\n",
        "print(\"\\nTokens:\", tokens)\n",
        "print(\"\\nPOS Tags:\")\n",
        "for word, tag in pos_tags:\n",
        "    print(f\"  {word:8} -> {tag}\")\n"
      ]
    },
    {
      "cell_type": "markdown",
      "id": "555b5f5d",
      "metadata": {
        "id": "555b5f5d"
      },
      "source": [
        "\n",
        "### 🤔 Quick Questions:\n",
        "1. What does 'DT' mean? What about 'JJ'? The tag 'DT' stands for determiner, which is a word that introduces and provides context to a noun, such as specifying which one or how many. In the sentence \"The quick brown fox jumps over the lazy dog\", the word \"The\" is a determiner because it tells us which specific fox and which specific dog are being talked about. The tag 'JJ' represents an adjective. Adjectives are words that describe or modify nouns by giving more information about them, such as their color, quality, or condition. In the sentence, words like \"quick\", \"brown\", and \"lazy\" are all adjectives because they describe the fox and the dog.\n",
        "\n",
        "2. Why do you think 'brown' and 'lazy' have the same tag? The words \"brown\" and \"lazy\" have the same tag 'JJ' because they both function as adjectives. They each describe a noun, \"brown\" describes the fox, and \"lazy\" describes the dog, so they play the same grammatical role in the sentence.\n",
        "\n",
        "3. Can you guess what 'VBZ' represents? The tag 'VBZ' stands for a verb in the third person singular present tense. In the sentence, \"jumps\" is labeled as VBZ because it is a present-tense verb that agrees with the third person singular subject \"fox\". For example, we say \"He jumps\", not \"He jump\", the 's' at the end of \"jumps\" marks it as VBZ.\n",
        "\n",
        "*Hint: Think about the grammatical role each word plays in the sentence!*\n"
      ]
    },
    {
      "cell_type": "markdown",
      "id": "f3045611",
      "metadata": {
        "id": "f3045611"
      },
      "source": [
        "\n",
        "## 🚀 Activity 2: SpaCy vs NLTK Showdown (10 minutes)\n",
        "\n",
        "Now let's see how SpaCy handles the same sentence. SpaCy uses cleaner, more intuitive tag names.\n"
      ]
    },
    {
      "cell_type": "code",
      "execution_count": 15,
      "id": "a9669b15",
      "metadata": {
        "id": "a9669b15",
        "colab": {
          "base_uri": "https://localhost:8080/"
        },
        "outputId": "d0823d42-a162-4353-c47c-4c133065e9d7"
      },
      "outputs": [
        {
          "output_type": "stream",
          "name": "stdout",
          "text": [
            "SpaCy POS Tags:\n",
            "  The      -> DET    (DT)\n",
            "  quick    -> ADJ    (JJ)\n",
            "  brown    -> ADJ    (JJ)\n",
            "  fox      -> NOUN   (NN)\n",
            "  jumps    -> VERB   (VBZ)\n",
            "  over     -> ADP    (IN)\n",
            "  the      -> DET    (DT)\n",
            "  lazy     -> ADJ    (JJ)\n",
            "  dog      -> NOUN   (NN)\n",
            "\n",
            "==================================================\n",
            "COMPARISON:\n",
            "==================================================\n",
            "Word       NLTK     SpaCy     \n",
            "------------------------------\n",
            "The        DT       DET       \n",
            "quick      JJ       ADJ       \n",
            "brown      NN       ADJ       \n",
            "fox        NN       NOUN      \n",
            "jumps      VBZ      VERB      \n",
            "over       IN       ADP       \n",
            "the        DT       DET       \n",
            "lazy       JJ       ADJ       \n",
            "dog        NN       NOUN      \n"
          ]
        }
      ],
      "source": [
        "\n",
        "# TODO: Process the same sentence with SpaCy\n",
        "# Hint: Use nlp(sentence) and access .text and .pos_ attributes\n",
        "doc = nlp(sentence)\n",
        "\n",
        "print(\"SpaCy POS Tags:\")\n",
        "for token in doc:\n",
        "    print(f\"  {token.text:8} -> {token.pos_:6} ({token.tag_})\")\n",
        "\n",
        "print(\"\\n\" + \"=\"*50)\n",
        "print(\"COMPARISON:\")\n",
        "print(\"=\"*50)\n",
        "\n",
        "# Let's compare side by side\n",
        "nltk_tags = nltk.pos_tag(nltk.word_tokenize(sentence))\n",
        "spacy_doc = nlp(sentence)\n",
        "\n",
        "print(f\"{'Word':10} {'NLTK':8} {'SpaCy':10}\")\n",
        "print(\"-\" * 30)\n",
        "for i, (word, nltk_tag) in enumerate(nltk_tags):\n",
        "    spacy_tag = spacy_doc[i].pos_\n",
        "    print(f\"{word:10} {nltk_tag:8} {spacy_tag:10}\")\n"
      ]
    },
    {
      "cell_type": "markdown",
      "id": "889c2fcc",
      "metadata": {
        "id": "889c2fcc"
      },
      "source": [
        "\n",
        "### 🎯 Discussion Points:\n",
        "- Which tags are easier to understand: NLTK's or SpaCy's? SpaCy's tags are easier to understand because they use clear and descriptive labels such as \"NOUN,\" \"VERB,\" and \"ADJ.\" These labels are more intuitive and closely resemble the actual part-of-speech names in English. In contrast, NLTK uses shorthand codes like \"NN\" for noun and \"JJ\" for adjective, which require memorization and are not immediately obvious to beginners.\n",
        "\n",
        "- Do you notice any differences in how they tag the same words? In most cases, SpaCy and NLTK tag words similarly, since both tools are analyzing the same grammar patterns. However, there can be small differences in more complex sentences. This is because NLTK uses a more detailed and traditional tagset called the Penn Treebank, while SpaCy uses a simplified and more universal tagging system. For example, NLTK might use \"VBZ\" to indicate a specific verb tense, while SpaCy simply uses \"VERB.\"\n",
        "\n",
        "- Which system would you prefer for a beginner? Why? For a beginner, SpaCy is the preferred system. It provides tags that are easier to understand and interpret, which helps new learners focus on the meanings and functions of words rather than memorizing codes. Additionally, SpaCy has a modern and user-friendly design that makes it easier to learn and use for natural language processing tasks.\n"
      ]
    },
    {
      "cell_type": "markdown",
      "id": "1d773576",
      "metadata": {
        "id": "1d773576"
      },
      "source": [
        "\n",
        "## 🎭 Activity 3: The Ambiguity Challenge (15 minutes)\n",
        "\n",
        "Here's where things get interesting! Many words can be different parts of speech depending on context. Let's explore this with some tricky examples.\n"
      ]
    },
    {
      "cell_type": "code",
      "execution_count": 19,
      "id": "4de9076f",
      "metadata": {
        "id": "4de9076f",
        "colab": {
          "base_uri": "https://localhost:8080/"
        },
        "outputId": "b65ca96c-6ec3-4835-bafb-877bd6b76914"
      },
      "outputs": [
        {
          "output_type": "stream",
          "name": "stdout",
          "text": [
            "🎭 AMBIGUITY EXPLORATION\n",
            "========================================\n",
            "\n",
            "Sentence: I will lead the team to victory.\n",
            "  🎯 'lead' is tagged as: VB\n",
            "\n",
            "Sentence: The lead pipe is heavy.\n",
            "  🎯 'lead' is tagged as: NN\n",
            "\n",
            "Sentence: She took the lead in the race.\n",
            "  🎯 'lead' is tagged as: NN\n",
            "\n",
            "Sentence: The bank approved my loan.\n",
            "  🎯 'bank' is tagged as: NN\n",
            "\n",
            "Sentence: We sat by the river bank.\n",
            "  🎯 'bank' is tagged as: NN\n",
            "\n",
            "Sentence: I bank with Chase.\n",
            "  🎯 'bank' is tagged as: NN\n"
          ]
        }
      ],
      "source": [
        "\n",
        "# Ambiguous words in different contexts\n",
        "ambiguous_sentences = [\n",
        "    \"I will lead the team to victory.\",           # lead = verb\n",
        "    \"The lead pipe is heavy.\",                    # lead = noun (metal)\n",
        "    \"She took the lead in the race.\",            # lead = noun (position)\n",
        "    \"The bank approved my loan.\",                # bank = noun (financial)\n",
        "    \"We sat by the river bank.\",                 # bank = noun (shore)\n",
        "    \"I bank with Chase.\",                        # bank = verb\n",
        "]\n",
        "\n",
        "print(\"🎭 AMBIGUITY EXPLORATION\")\n",
        "print(\"=\" * 40)\n",
        "\n",
        "for sentence in ambiguous_sentences:\n",
        "    print(f\"\\nSentence: {sentence}\")\n",
        "\n",
        "    # TODO: Tag each sentence and find the ambiguous word\n",
        "    # Focus on 'lead' and 'bank' - what tags do they get?\n",
        "    tokens = nltk.word_tokenize(sentence)\n",
        "    tags = nltk.pos_tag(tokens)\n",
        "\n",
        "    # Find and highlight the key word\n",
        "    for word, tag in tags:\n",
        "        if word.lower() in ['lead', 'bank']:\n",
        "            print(f\"  🎯 '{word}' is tagged as: {tag}\")\n",
        "\n",
        "\n",
        "ambiguous_sentences += [\n",
        "    \"He will bow before the queen.\",      # bow = verb\n",
        "    \"She tied the bow on the gift.\",      # bow = noun\n",
        "    \"Please tear the paper carefully.\",   # tear = verb\n",
        "    \"There was a tear in his shirt.\",     # tear = noun\n",
        "]\n",
        "\n"
      ]
    },
    {
      "cell_type": "markdown",
      "id": "b299cc67",
      "metadata": {
        "id": "b299cc67"
      },
      "source": [
        "\n",
        "### 🧠 Think About It:\n",
        "1. How does the computer know the difference between \"lead\" (metal) and \"lead\" (guide)? The computer determines the difference between \"lead\" as a metal and \"lead\" as a verb by analyzing the context in which the word appears. It looks at the other words in the sentence and their grammatical roles to understand how \"lead\" is being used. For example, if \"lead\" is followed by a noun like \"pipe,\" the computer interprets it as a noun referring to the metal. If \"lead\" follows a modal verb like \"will,\" it is recognized as a verb meaning to guide.\n",
        "\n",
        "2. What clues in the sentence help determine the correct part of speech? Clues that help determine the correct part of speech include the words that come before and after the ambiguous word, the sentence structure, and common word pairings. For instance, verbs often follow modal verbs such as \"will,\" while nouns often follow determiners such as \"the\" or \"a.\" These clues assist the tagging system in identifying the proper grammatical role of the word.\n",
        "\n",
        "3. Can you think of other words that change meaning based on context? Yes, there are many words that change meaning depending on context. For example, the word \"bow\" can mean to bend forward as a verb, or it can mean a type of weapon or a decorative ribbon as a noun. The word \"tear\" can mean to rip something as a verb, or it can refer to a drop of liquid from the eye as a noun. Another example is \"right,\" which can mean correct as an adjective or a direction as a noun.\n",
        "\n",
        "**Try This**: Add your own ambiguous sentences to the list above and see how the tagger handles them!\n"
      ]
    },
    {
      "cell_type": "markdown",
      "id": "cd61b43a",
      "metadata": {
        "id": "cd61b43a"
      },
      "source": [
        "\n",
        "## 📊 Activity 4: Tag Set Showdown (10 minutes)\n",
        "\n",
        "NLTK can use different tag sets. Let's compare the detailed Penn Treebank tags (~45 tags) with the simpler Universal Dependencies tags (~17 tags).\n"
      ]
    },
    {
      "cell_type": "code",
      "execution_count": 20,
      "id": "9fd01009",
      "metadata": {
        "id": "9fd01009",
        "colab": {
          "base_uri": "https://localhost:8080/"
        },
        "outputId": "b4c9df0b-6efa-40d6-d90b-983765c868b4"
      },
      "outputs": [
        {
          "output_type": "stream",
          "name": "stdout",
          "text": [
            "TAG SET COMPARISON\n",
            "==================================================\n",
            "Word            Penn Treebank   Universal \n",
            "--------------------------------------------------\n",
            "I               PRP             PRON      \n",
            "bank            NN              NOUN      \n",
            "with            IN              ADP       \n",
            "Chase           NNP             NOUN      \n",
            ".               .               .         \n",
            "\n",
            "📊 Penn Treebank uses 5 different tags\n",
            "📊 Universal uses 4 different tags\n"
          ]
        }
      ],
      "source": [
        "\n",
        "# Compare different tag sets\n",
        "test_sentence = \"The brilliant students quickly solved the challenging programming assignment.\"\n",
        "\n",
        "# TODO: Get tags using both Penn Treebank and Universal tagsets\n",
        "# Hint: Use tagset='universal' parameter for universal tags\n",
        "penn_tags = nltk.pos_tag(tokens)\n",
        "universal_tags = nltk.pos_tag(tokens, tagset='universal')\n",
        "\n",
        "print(\"TAG SET COMPARISON\")\n",
        "print(\"=\" * 50)\n",
        "print(f\"{'Word':15} {'Penn Treebank':15} {'Universal':10}\")\n",
        "print(\"-\" * 50)\n",
        "\n",
        "# TODO: Print comparison table\n",
        "# Hint: Zip the two tag lists together\n",
        "for (word, penn_tag), (_, univ_tag) in zip(penn_tags, universal_tags):\n",
        "    print(f\"{word:15} {penn_tag:15} {univ_tag:10}\")\n",
        "\n",
        "# Let's also visualize the tag distribution\n",
        "penn_tag_counts = Counter([tag for word, tag in penn_tags])\n",
        "univ_tag_counts = Counter([tag for word, tag in universal_tags])\n",
        "\n",
        "print(f\"\\n📊 Penn Treebank uses {len(penn_tag_counts)} different tags\")\n",
        "print(f\"📊 Universal uses {len(univ_tag_counts)} different tags\")\n"
      ]
    },
    {
      "cell_type": "markdown",
      "id": "2fab1efe",
      "metadata": {
        "id": "2fab1efe"
      },
      "source": [
        "\n",
        "### 🤔 Reflection Questions:\n",
        "1. Which tag set is more detailed? Which is simpler? The Penn Treebank tag set is more detailed because it contains about 45 different tags that capture fine-grained distinctions between parts of speech. The Universal tag set is simpler, with only about 17 tags that cover broader categories.\n",
        "\n",
        "2. When might you want detailed tags vs. simple tags? You might want detailed tags when you need precise linguistic information, such as in advanced natural language processing tasks like syntactic parsing, information extraction, or detailed text analysis. Simple tags are useful when you want a general understanding of the text’s structure or when working on applications that require faster processing and less complexity, such as text classification or basic sentiment analysis.\n",
        "\n",
        "3. If you were building a search engine, which would you choose? Why? If I were building a search engine, I would choose the simpler Universal tag set. This is because search engines typically prioritize speed and efficiency, and broad categories are often sufficient to improve search relevance. Using simpler tags reduces computational overhead and makes it easier to scale across large volumes of text.\n",
        "---\n"
      ]
    },
    {
      "cell_type": "markdown",
      "id": "e2e2ce7d",
      "metadata": {
        "id": "e2e2ce7d"
      },
      "source": [
        "\n",
        "---\n",
        "# 🎓 End of Part 1: In-Class Exercise\n",
        "\n",
        "Great work! You've learned the fundamentals of POS tagging and gotten hands-on experience with both NLTK and SpaCy.\n",
        "\n",
        "## What You've Accomplished:\n",
        "✅ Used NLTK and SpaCy for basic POS tagging  \n",
        "✅ Interpreted different tag systems  \n",
        "✅ Explored word ambiguity and context  \n",
        "✅ Compared different tagging approaches  \n",
        "\n",
        "## 🏠 Ready for Part 2?\n",
        "The homework lab will challenge you with real-world applications, messy data, and advanced techniques. You'll analyze customer service transcripts, handle informal language, and benchmark different taggers.\n",
        "\n",
        "**Take a break, then dive into Part 2 when you're ready!**\n",
        "\n",
        "---\n"
      ]
    },
    {
      "cell_type": "markdown",
      "id": "571e9ac8",
      "metadata": {
        "id": "571e9ac8"
      },
      "source": [
        "\n",
        "# 🏠 PART 2: HOMEWORK LAB\n",
        "## Real-World POS Tagging Challenges\n",
        "\n",
        "Welcome to the advanced section! Here you'll tackle the messy, complex world of real text data. This is where POS tagging gets interesting (and challenging)!\n",
        "\n",
        "## Learning Goals for Part 2:\n",
        "1. Process real-world, messy text data\n",
        "2. Handle speech transcripts and informal language\n",
        "3. Analyze customer service scenarios\n",
        "4. Benchmark and compare different taggers\n",
        "5. Understand limitations and edge cases\n",
        "\n",
        "## 📋 Submission Requirements:\n",
        "- Complete all exercises with working code\n",
        "- Answer all reflection questions\n",
        "- Include at least one visualization\n",
        "- Submit your completed notebook file\n",
        "\n",
        "---\n"
      ]
    },
    {
      "cell_type": "markdown",
      "id": "15ae7ff1",
      "metadata": {
        "id": "15ae7ff1"
      },
      "source": [
        "\n",
        "## 🌍 Lab Exercise 1: Messy Text Challenge (25 minutes)\n",
        "\n",
        "Real-world text is nothing like textbook examples! Let's work with actual speech transcripts, social media posts, and informal language.\n"
      ]
    },
    {
      "cell_type": "code",
      "execution_count": 21,
      "id": "cacc5fe7",
      "metadata": {
        "id": "cacc5fe7",
        "colab": {
          "base_uri": "https://localhost:8080/"
        },
        "outputId": "6cc0d06c-3955-4d7a-f973-4fb6b31c4094"
      },
      "outputs": [
        {
          "output_type": "stream",
          "name": "stdout",
          "text": [
            "🔍 PROCESSING MESSY TEXT\n",
            "============================================================\n",
            "\n",
            "📝 Sample 1: Um, so like, I was gonna say that, uh, the system ain't working right, you know?\n",
            "----------------------------------------\n",
            "NLTK problematic words: []\n",
            "SpaCy problematic words: []\n",
            "NLTK success rate: 100.0%\n",
            "SpaCy success rate: 100.0%\n",
            "\n",
            "📝 Sample 2: OMG this app is sooo buggy rn 😤 cant even login smh\n",
            "----------------------------------------\n",
            "NLTK problematic words: ['😤']\n",
            "SpaCy problematic words: []\n",
            "NLTK success rate: 91.7%\n",
            "SpaCy success rate: 100.0%\n",
            "\n",
            "📝 Sample 3: Yeah hi um I'm calling because my internet's been down since like yesterday and I've tried unplugging the router thingy but it's still not working\n",
            "----------------------------------------\n",
            "NLTK problematic words: []\n",
            "SpaCy problematic words: []\n",
            "NLTK success rate: 100.0%\n",
            "SpaCy success rate: 100.0%\n",
            "\n",
            "📝 Sample 4: Y'all better fix this ASAP cuz I'm bout to switch providers fr fr\n",
            "----------------------------------------\n",
            "NLTK problematic words: ['ASAP']\n",
            "SpaCy problematic words: []\n",
            "NLTK success rate: 92.9%\n",
            "SpaCy success rate: 100.0%\n",
            "\n",
            "📝 Sample 5: The API endpoint is returning a 500 error but idk why it's happening tbh\n",
            "----------------------------------------\n",
            "NLTK problematic words: ['API']\n",
            "SpaCy problematic words: []\n",
            "NLTK success rate: 93.3%\n",
            "SpaCy success rate: 100.0%\n"
          ]
        }
      ],
      "source": [
        "\n",
        "# Real-world messy text samples\n",
        "messy_texts = [\n",
        "    # Speech transcript with disfluencies\n",
        "    \"Um, so like, I was gonna say that, uh, the system ain't working right, you know?\",\n",
        "\n",
        "    # Social media style\n",
        "    \"OMG this app is sooo buggy rn 😤 cant even login smh\",\n",
        "\n",
        "    # Customer service transcript\n",
        "    \"Yeah hi um I'm calling because my internet's been down since like yesterday and I've tried unplugging the router thingy but it's still not working\",\n",
        "\n",
        "    # Informal contractions and slang\n",
        "    \"Y'all better fix this ASAP cuz I'm bout to switch providers fr fr\",\n",
        "\n",
        "    # Technical jargon mixed with casual speech\n",
        "    \"The API endpoint is returning a 500 error but idk why it's happening tbh\"\n",
        "]\n",
        "\n",
        "print(\"🔍 PROCESSING MESSY TEXT\")\n",
        "print(\"=\" * 60)\n",
        "\n",
        "# TODO: Process each messy text sample\n",
        "# 1. Use both NLTK and SpaCy\n",
        "# 2. Count how many words each tagger fails to recognize properly\n",
        "# 3. Identify problematic words (slang, contractions, etc.)\n",
        "\n",
        "for i, text in enumerate(messy_texts, 1):\n",
        "    print(f\"\\n📝 Sample {i}: {text}\")\n",
        "    print(\"-\" * 40)\n",
        "\n",
        "    # NLTK processing\n",
        "    nltk_tokens = nltk.word_tokenize(text)\n",
        "    nltk_tags = nltk.pos_tag(nltk_tokens)\n",
        "\n",
        "    # TODO: SpaCy processing\n",
        "    spacy_doc = nlp(text)\n",
        "\n",
        "    # TODO: Find problematic words (tagged as 'X' or unknown)\n",
        "    problematic_nltk = [word for word, tag in nltk_tags if tag == 'NNP' and word.lower() not in ['i', 'you', 'yeah', 'um']]\n",
        "    problematic_spacy = [token.text for token in spacy_doc if token.pos_ == 'X']\n",
        "\n",
        "    print(f\"NLTK problematic words: {problematic_nltk}\")\n",
        "    print(f\"SpaCy problematic words: {problematic_spacy}\")\n",
        "\n",
        "    # TODO: Calculate success rate\n",
        "    nltk_success_rate = 1 - len(problematic_nltk) / len(nltk_tokens)\n",
        "    spacy_success_rate = 1 - len(problematic_spacy) / len(spacy_doc)\n",
        "\n",
        "    print(f\"NLTK success rate: {nltk_success_rate:.1%}\")\n",
        "    print(f\"SpaCy success rate: {spacy_success_rate:.1%}\")\n"
      ]
    },
    {
      "cell_type": "markdown",
      "id": "35a387a8",
      "metadata": {
        "id": "35a387a8"
      },
      "source": [
        "\n",
        "### 🎯 Analysis Questions:\n",
        "1. Which tagger handles informal language better? Based on the comparison, SpaCy generally handles informal language better than NLTK. SpaCy is more robust in processing slang, contractions, emojis, and disfluencies, often assigning a meaningful part-of-speech tag or marking unknown words more accurately with the 'X' tag. NLTK tends to misclassify slang or informal expressions as proper nouns or regular nouns, which can reduce tagging accuracy in casual or real-world text.\n",
        "\n",
        "2. What types of words cause the most problems? Words that cause the most problems are typically slang, abbreviations, contractions, and non-standard spellings. Examples include internet shorthand like “rn” (right now), “smh” (shaking my head), and casual contractions like “gonna,” “bout,” and “y’all.” Disfluencies and filler words such as “um” and “uh” also confuse taggers because they do not fit standard grammatical categories. Emojis and hashtags can be difficult for traditional taggers to interpret as well.\n",
        "\n",
        "3. How might you preprocess text to improve tagging accuracy? To improve tagging accuracy, it is helpful to preprocess the text by normalizing informal words and contractions. This can include expanding contractions (e.g., “gonna” to “going to”), translating slang into formal equivalents, removing or standardizing emojis, and correcting spelling errors. Tokenization tailored for social media text, such as Twitter-specific tools, can also improve accuracy by handling hashtags and emojis more intelligently. Additionally, using a custom dictionary or embedding model trained on informal text may enhance performance.\n",
        "\n",
        "4. What are the implications for real-world applications? The way POS taggers handle informal language has significant implications for real-world applications such as customer service chatbots, social media monitoring, and speech recognition. If taggers mislabel key words, the system may misunderstand the user's intent or sentiment, leading to poor responses or incorrect analysis. Improving tagging accuracy for messy, real-world text helps ensure that applications can understand and respond to natural language more effectively, ultimately improving user experience and decision-making.\n"
      ]
    },
    {
      "cell_type": "markdown",
      "id": "966c3a77",
      "metadata": {
        "id": "966c3a77"
      },
      "source": [
        "\n",
        "## 📞 Lab Exercise 2: Customer Service Analysis Case Study (30 minutes)\n",
        "\n",
        "You're working for a tech company that receives thousands of customer service calls daily. Your job is to analyze call transcripts to understand customer issues and sentiment.\n",
        "\n",
        "**Business Goal**: Automatically categorize customer problems and identify emotional language.\n"
      ]
    },
    {
      "cell_type": "code",
      "execution_count": 24,
      "id": "c7a5ed54",
      "metadata": {
        "id": "c7a5ed54",
        "colab": {
          "base_uri": "https://localhost:8080/"
        },
        "outputId": "a0aa9677-e12e-49a8-970b-9f2b6d1aa1c3"
      },
      "outputs": [
        {
          "output_type": "stream",
          "name": "stdout",
          "text": [
            "\n",
            "🎧 Analyzing CALL_001\n",
            "Category: account_access\n",
            "Transcript: Hi, I'm really frustrated because my account got locked and I can't access my files. I've been trying for hours and nothing works. This is completely unacceptable.\n",
            "--------------------------------------------------\n",
            "Emotional adjectives: ['frustrated', 'unacceptable']\n",
            "Action verbs: ['lock', 'access', 'try', 'work']\n",
            "Problem nouns: ['account', 'files', 'hours']\n",
            "Sentiment score: -2\n",
            "\n",
            "🎧 Analyzing CALL_002\n",
            "Category: technical_issue\n",
            "Transcript: Hello, I love your service but I'm having a small issue with the mobile app. It crashes whenever I try to upload photos. Could you please help me fix this?\n",
            "--------------------------------------------------\n",
            "Emotional adjectives: ['small', 'mobile']\n",
            "Action verbs: ['love', 'have', 'crash', 'try', 'upload', 'help', 'fix']\n",
            "Problem nouns: ['service', 'issue', 'app', 'photos']\n",
            "Sentiment score: -1\n",
            "\n",
            "🎧 Analyzing CALL_003\n",
            "Category: billing\n",
            "Transcript: Your billing system charged me twice this month! I want a refund immediately. This is ridiculous and I'm considering canceling my subscription.\n",
            "--------------------------------------------------\n",
            "Emotional adjectives: ['ridiculous']\n",
            "Action verbs: ['charge', 'want', 'consider', 'cancel']\n",
            "Problem nouns: ['billing', 'system', 'month', 'refund', 'subscription']\n",
            "Sentiment score: -1\n",
            "\n",
            "🎧 Analyzing CALL_004\n",
            "Category: user_guidance\n",
            "Transcript: I'm confused about how to use the new features you added. The interface changed and I can't find anything. Can someone walk me through it?\n",
            "--------------------------------------------------\n",
            "Emotional adjectives: ['confused', 'new']\n",
            "Action verbs: ['use', 'add', 'change', 'find', 'walk']\n",
            "Problem nouns: ['features', 'interface']\n",
            "Sentiment score: 0\n"
          ]
        }
      ],
      "source": [
        "# Simulated customer service call transcripts\n",
        "customer_transcripts = [\n",
        "    {\n",
        "        'id': 'CALL_001',\n",
        "        'transcript': \"Hi, I'm really frustrated because my account got locked and I can't access my files. I've been trying for hours and nothing works. This is completely unacceptable.\",\n",
        "        'category': 'account_access'\n",
        "    },\n",
        "    {\n",
        "        'id': 'CALL_002',\n",
        "        'transcript': \"Hello, I love your service but I'm having a small issue with the mobile app. It crashes whenever I try to upload photos. Could you please help me fix this?\",\n",
        "        'category': 'technical_issue'\n",
        "    },\n",
        "    {\n",
        "        'id': 'CALL_003',\n",
        "        'transcript': \"Your billing system charged me twice this month! I want a refund immediately. This is ridiculous and I'm considering canceling my subscription.\",\n",
        "        'category': 'billing'\n",
        "    },\n",
        "    {\n",
        "        'id': 'CALL_004',\n",
        "        'transcript': \"I'm confused about how to use the new features you added. The interface changed and I can't find anything. Can someone walk me through it?\",\n",
        "        'category': 'user_guidance'\n",
        "    }\n",
        "]\n",
        "\n",
        "# TODO: Analyze each transcript for:\n",
        "# 1. Emotional language (adjectives that indicate sentiment)\n",
        "# 2. Action words (verbs that indicate what customer wants)\n",
        "# 3. Problem indicators (nouns related to issues)\n",
        "\n",
        "analysis_results = []\n",
        "\n",
        "for call in customer_transcripts:\n",
        "    print(f\"\\n🎧 Analyzing {call['id']}\")\n",
        "    print(f\"Category: {call['category']}\")\n",
        "    print(f\"Transcript: {call['transcript']}\")\n",
        "    print(\"-\" * 50)\n",
        "\n",
        "    # TODO: Process with SpaCy (it's better for this task)\n",
        "    doc = nlp(call['transcript'])\n",
        "\n",
        "    # TODO: Extract different types of words\n",
        "    emotional_adjectives = [token.text for token in doc if token.pos_ == \"ADJ\"]\n",
        "    action_verbs = [token.lemma_ for token in doc if token.pos_ == \"VERB\"]\n",
        "    problem_nouns = [token.text for token in doc if token.pos_ == \"NOUN\"]\n",
        "\n",
        "    # TODO: Calculate sentiment indicators\n",
        "    positive_lexicon = set(['love', 'great', 'happy', 'excellent', 'good']) # Example positive words\n",
        "    negative_lexicon = set(['frustrated', 'unacceptable', 'issue', 'crashes', 'ridiculous', 'terrible']) # Example negative words\n",
        "    positive_words = [token.text for token in doc if token.text.lower() in positive_lexicon]\n",
        "    negative_words = [token.text for token in doc if token.text.lower() in negative_lexicon]\n",
        "\n",
        "    result = {\n",
        "        'call_id': call['id'],\n",
        "        'category': call['category'],\n",
        "        'emotional_adjectives': emotional_adjectives,\n",
        "        'action_verbs': action_verbs,\n",
        "        'problem_nouns': problem_nouns,\n",
        "        'sentiment_score': len(positive_words) - len(negative_words),\n",
        "        'urgency_indicators': [] # TODO: Count urgent words (immediately, ASAP, etc.)\n",
        "    }\n",
        "\n",
        "    analysis_results.append(result)\n",
        "\n",
        "    print(f\"Emotional adjectives: {emotional_adjectives}\")\n",
        "    print(f\"Action verbs: {action_verbs}\")\n",
        "    print(f\"Problem nouns: {problem_nouns}\")\n",
        "    print(f\"Sentiment score: {result['sentiment_score']}\")"
      ]
    },
    {
      "cell_type": "code",
      "execution_count": 27,
      "id": "6db420ac",
      "metadata": {
        "id": "6db420ac",
        "colab": {
          "base_uri": "https://localhost:8080/",
          "height": 513
        },
        "outputId": "7bfc7531-d8d5-446c-c67e-b92968191b82"
      },
      "outputs": [
        {
          "output_type": "display_data",
          "data": {
            "text/plain": [
              "<Figure size 1500x1000 with 4 Axes>"
            ],
            "image/png": "[encoded data removed]"
          },
          "metadata": {}
        }
      ],
      "source": [
        "# TODO: Create a summary visualization\n",
        "# Hint: Use matplotlib or seaborn to create charts\n",
        "\n",
        "import matplotlib.pyplot as plt\n",
        "import pandas as pd\n",
        "from collections import Counter\n",
        "\n",
        "# Convert results to DataFrame for easier analysis\n",
        "df = pd.DataFrame(analysis_results)\n",
        "\n",
        "# Initialize lists to collect all words for frequency analysis\n",
        "all_adjectives = []\n",
        "all_verbs = []\n",
        "all_urgencies = [] # This will be populated once urgency indicators are extracted\n",
        "\n",
        "# Collect all emotional adjectives and action verbs from all transcripts\n",
        "for index, row in df.iterrows():\n",
        "    all_adjectives.extend(row['emotional_adjectives'])\n",
        "    all_verbs.extend(row['action_verbs'])\n",
        "    # TODO: Add code here to collect urgency indicators once implemented\n",
        "\n",
        "\n",
        "# TODO: Create visualizations\n",
        "# 1. Sentiment scores by category\n",
        "# 2. Most common emotional adjectives\n",
        "# 3. Action verbs frequency\n",
        "# 4. Urgency analysis\n",
        "\n",
        "fig, axes = plt.subplots(2, 2, figsize=(15, 10))\n",
        "\n",
        "# TODO: Plot 1 - Sentiment by category\n",
        "df.groupby(\"category\")[\"sentiment_score\"].mean().plot(\n",
        "    kind=\"bar\",\n",
        "    ax=axes[0, 0],\n",
        "    title=\"Average Sentiment Score by Category\",\n",
        "    color=\"skyblue\"\n",
        ")\n",
        "axes[0, 0].set_ylabel(\"Sentiment Score\")\n",
        "\n",
        "# TODO: Plot 2 - Word frequency analysis\n",
        "adj_counts = Counter(all_adjectives).most_common(5)\n",
        "axes[0, 1].bar([word for word, _ in adj_counts], [count for _, count in adj_counts], color=\"salmon\")\n",
        "axes[0, 1].set_title(\"Top Emotional Adjectives\")\n",
        "axes[0, 1].set_ylabel(\"Frequency\")\n",
        "\n",
        "# TODO: Plot 3 - Problem categorization\n",
        "verb_counts = Counter(all_verbs).most_common(5)\n",
        "axes[1, 0].bar([word for word, _ in verb_counts], [count for _, count in verb_counts], color=\"lightgreen\")\n",
        "axes[1, 0].set_title(\"Top Action Verbs\")\n",
        "axes[1, 0].set_ylabel(\"Frequency\")\n",
        "\n",
        "# TODO: Plot 4 - Urgency analysis\n",
        "# This plot requires extracting urgency indicators in the previous cell (c7a5ed54)\n",
        "# For now, we'll leave it as a placeholder or plot an empty chart if all_urgencies is empty\n",
        "if all_urgencies:\n",
        "    urg_counts = Counter(all_urgencies)\n",
        "    axes[1, 1].bar(urg_counts.keys(), urg_counts.values(), color=\"orange\")\n",
        "    axes[1, 1].set_title(\"Urgency Indicators\")\n",
        "    axes[1, 1].set_ylabel(\"Frequency\")\n",
        "else:\n",
        "    axes[1, 1].set_title(\"Urgency Indicators (Data Not Collected)\")\n",
        "    axes[1, 1].text(0.5, 0.5, \"Collect urgency data in previous cell\", horizontalalignment='center', verticalalignment='center', transform=axes[1, 1].transAxes)\n",
        "\n",
        "\n",
        "plt.tight_layout()\n",
        "plt.show()"
      ]
    },
    {
      "cell_type": "markdown",
      "id": "8c9a271c",
      "metadata": {
        "id": "8c9a271c"
      },
      "source": [
        "\n",
        "### 💼 Business Impact Questions:\n",
        "1. How could this analysis help prioritize customer service tickets? This analysis can help prioritize customer service tickets by identifying emotionally charged language and urgency indicators within transcripts. For example, if a transcript includes strong negative sentiment words such as “frustrated,” “unacceptable,” or “ridiculous,” and also contains urgency cues like “immediately” or “ASAP,” the system can flag the ticket as high-priority. This allows customer service teams to address the most critical and time-sensitive issues first, improving customer satisfaction and retention.\n",
        "\n",
        "2. What patterns do you notice in different problem categories? In the analysis, certain patterns emerge across categories. For instance, billing issues often contain intense negative sentiment and words related to urgency, such as \"immediately\" and \"refund.\" Technical issues tend to have action-oriented verbs like \"fix\" or \"upload\" and include more neutral or mildly negative language. Account access problems frequently express frustration and helplessness, with verbs like \"try\" and \"access.\" User guidance calls are often marked by confusion rather than anger and contain questions or requests for help. These patterns suggest that different categories carry different emotional and linguistic profiles, which can inform how support teams approach each case.\n",
        "\n",
        "3. How might you automate the routing of calls based on POS analysis? Automated call routing can be implemented by using part-of-speech (POS) analysis to extract verbs, nouns, and adjectives that signal specific customer needs. For example, if POS tagging reveals action verbs like “cancel” or nouns like “subscription,” the system can automatically route the call to the billing or cancellation team. If the transcript includes words such as “confused,” “feature,” or “walk through,” the system may route the ticket to a product specialist or onboarding agent. This routing system can be enhanced with machine learning models trained on labeled transcript data to learn more complex language patterns over time.\n",
        "\n",
        "4. What are the limitations of this approach? While POS-based analysis is useful, it has several limitations. First, it may struggle with ambiguous or informal language, especially in transcripts that include slang, sarcasm, or typos. Second, POS tagging alone cannot fully capture the nuance or intent behind a customer’s words, it identifies grammatical structure, but not always meaning or priority. Third, the accuracy of sentiment detection depends heavily on the quality of the lexicons used and does not consider the context of how a word is used (for example, “not bad” might be interpreted incorrectly). Finally, this approach does not handle multilingual transcripts unless additional language models are integrated.\n"
      ]
    },
    {
      "cell_type": "markdown",
      "id": "22733d79",
      "metadata": {
        "id": "22733d79"
      },
      "source": [
        "\n",
        "## ⚡ Lab Exercise 3: Tagger Performance Benchmarking (20 minutes)\n",
        "\n",
        "Let's scientifically compare different POS taggers on various types of text. This will help you understand when to use which tool.\n"
      ]
    },
    {
      "cell_type": "code",
      "execution_count": 29,
      "id": "39ac25fc",
      "metadata": {
        "id": "39ac25fc",
        "colab": {
          "base_uri": "https://localhost:8080/",
          "height": 1000
        },
        "outputId": "84b45915-b168-4636-cc59-340b6797ec4a"
      },
      "outputs": [
        {
          "output_type": "stream",
          "name": "stdout",
          "text": [
            "\n",
            "🧪 Testing FORMAL text:\n",
            "Text: The research methodology employed in this study follows established academic protocols.\n",
            "------------------------------------------------------------\n",
            "NLTK Penn time: 0.0012s\n",
            "NLTK Univ time: 0.0008s\n",
            "SpaCy time: 0.0122s\n",
            "NLTK unknown words: 0\n",
            "SpaCy unknown words: 0\n",
            "\n",
            "🧪 Testing INFORMAL text:\n",
            "Text: lol this study is kinda weird but whatever works i guess 🤷‍♀️\n",
            "------------------------------------------------------------\n",
            "NLTK Penn time: 0.0015s\n",
            "NLTK Univ time: 0.0011s\n",
            "SpaCy time: 0.0111s\n",
            "NLTK unknown words: 0\n",
            "SpaCy unknown words: 0\n",
            "\n",
            "🧪 Testing TECHNICAL text:\n",
            "Text: The API returns a JSON response with HTTP status code 200 upon successful authentication.\n",
            "------------------------------------------------------------\n",
            "NLTK Penn time: 0.0012s\n",
            "NLTK Univ time: 0.0008s\n",
            "SpaCy time: 0.0114s\n",
            "NLTK unknown words: 0\n",
            "SpaCy unknown words: 0\n",
            "\n",
            "🧪 Testing CONVERSATIONAL text:\n",
            "Text: So like, when you click that button thingy, it should totally work, right?\n",
            "------------------------------------------------------------\n",
            "NLTK Penn time: 0.0016s\n",
            "NLTK Univ time: 0.0012s\n",
            "SpaCy time: 0.0136s\n",
            "NLTK unknown words: 0\n",
            "SpaCy unknown words: 0\n",
            "\n",
            "🧪 Testing MIXED text:\n",
            "Text: OMG the algorithm's performance is absolutely terrible! The accuracy dropped to 23% wtf\n",
            "------------------------------------------------------------\n",
            "NLTK Penn time: 0.0028s\n",
            "NLTK Univ time: 0.0011s\n",
            "SpaCy time: 0.0119s\n",
            "NLTK unknown words: 0\n",
            "SpaCy unknown words: 0\n"
          ]
        },
        {
          "output_type": "display_data",
          "data": {
            "text/plain": [
              "<Figure size 1500x500 with 2 Axes>"
            ],
            "image/png": "[encoded data removed]"
          },
          "metadata": {}
        }
      ],
      "source": [
        "import time\n",
        "from collections import defaultdict\n",
        "\n",
        "# Different text types for testing\n",
        "test_texts = {\n",
        "    'formal': \"The research methodology employed in this study follows established academic protocols.\",\n",
        "    'informal': \"lol this study is kinda weird but whatever works i guess 🤷‍♀️\",\n",
        "    'technical': \"The API returns a JSON response with HTTP status code 200 upon successful authentication.\",\n",
        "    'conversational': \"So like, when you click that button thingy, it should totally work, right?\",\n",
        "    'mixed': \"OMG the algorithm's performance is absolutely terrible! The accuracy dropped to 23% wtf\"\n",
        "}\n",
        "\n",
        "# TODO: Benchmark different taggers\n",
        "# Test: NLTK Penn Treebank, NLTK Universal, SpaCy\n",
        "# Metrics: Speed, tag consistency, handling of unknown words\n",
        "\n",
        "benchmark_results = defaultdict(list)\n",
        "\n",
        "for text_type, text in test_texts.items():\n",
        "    print(f\"\\n🧪 Testing {text_type.upper()} text:\")\n",
        "    print(f\"Text: {text}\")\n",
        "    print(\"-\" * 60)\n",
        "\n",
        "    # TODO: NLTK Penn Treebank timing\n",
        "    start_time = time.time()\n",
        "    tokens = nltk.word_tokenize(text)\n",
        "    nltk_penn_tags = nltk.pos_tag(tokens)\n",
        "    nltk_penn_time = time.time() - start_time\n",
        "\n",
        "    # TODO: NLTK Universal timing\n",
        "    start_time = time.time()\n",
        "    nltk_univ_tags = nltk.pos_tag(tokens, tagset='universal')\n",
        "    nltk_univ_time = time.time() - start_time\n",
        "\n",
        "    # TODO: SpaCy timing\n",
        "    start_time = time.time()\n",
        "    spacy_doc = nlp(text)\n",
        "    spacy_time = time.time() - start_time\n",
        "\n",
        "    # TODO: Count unknown/problematic tags\n",
        "    nltk_unknown = sum(1 for word, tag in nltk_penn_tags if tag == 'NNP' and word.islower() and len(word) > 2)\n",
        "    spacy_unknown = sum(1 for token in spacy_doc if token.pos_ == 'X')\n",
        "\n",
        "    # Store results\n",
        "    benchmark_results[text_type] = {\n",
        "        'nltk_penn_time': nltk_penn_time,\n",
        "        'nltk_univ_time': nltk_univ_time,\n",
        "        'spacy_time': spacy_time,\n",
        "        'nltk_unknown': nltk_unknown,\n",
        "        'spacy_unknown': spacy_unknown\n",
        "    }\n",
        "\n",
        "    print(f\"NLTK Penn time: {nltk_penn_time:.4f}s\")\n",
        "    print(f\"NLTK Univ time: {nltk_univ_time:.4f}s\")\n",
        "    print(f\"SpaCy time: {spacy_time:.4f}s\")\n",
        "    print(f\"NLTK unknown words: {nltk_unknown}\")\n",
        "    print(f\"SpaCy unknown words: {spacy_unknown}\")\n",
        "\n",
        "# TODO: Create performance comparison visualization\n",
        "df = pd.DataFrame(benchmark_results).T.reset_index().rename(columns={'index': 'Text Type'})\n",
        "\n",
        "# Visualization\n",
        "fig, axes = plt.subplots(1, 2, figsize=(15, 5))\n",
        "\n",
        "# Speed comparison\n",
        "df[['Text Type', 'nltk_penn_time', 'nltk_univ_time', 'spacy_time']].set_index('Text Type').plot.bar(\n",
        "    ax=axes[0], color=['blue', 'skyblue', 'green'], title='Tagging Speed Comparison (seconds)'\n",
        ")\n",
        "axes[0].set_ylabel(\"Time (s)\")\n",
        "axes[0].legend([\"NLTK Penn\", \"NLTK Universal\", \"SpaCy\"])\n",
        "\n",
        "# Unknowns comparison\n",
        "df[['Text Type', 'nltk_unknown', 'spacy_unknown']].set_index('Text Type').plot.bar(\n",
        "    ax=axes[1], color=['red', 'orange'], title='Unknown Word Handling'\n",
        ")\n",
        "axes[1].set_ylabel(\"Count\")\n",
        "axes[1].legend([\"NLTK Unknowns\", \"SpaCy Unknowns\"])\n",
        "\n",
        "plt.suptitle(\"POS Tagger Benchmark on Diverse Text Types\", fontsize=16)\n",
        "plt.tight_layout(rect=[0, 0, 1, 0.95])\n",
        "plt.show()"
      ]
    },
    {
      "cell_type": "markdown",
      "id": "a656d62d",
      "metadata": {
        "id": "a656d62d"
      },
      "source": [
        "\n",
        "### 📊 Performance Analysis:\n",
        "1. Which tagger is fastest? Does speed matter for your use case? SpaCy is the fastest tagger among the three tested. It processes text more efficiently than NLTK's Penn Treebank and Universal taggers. Speed matters depending on the use case. For example, in a real-time chatbot or live customer support system, fast tagging is essential to keep response times low. In contrast, for offline analysis or smaller datasets, speed may be less important than tagging accuracy.\n",
        "\n",
        "2. Which handles informal text best? SpaCy handles informal text better than NLTK. It recognizes emojis, internet slang, contractions, and disfluencies more accurately. While NLTK often tags unknown or informal words incorrectly as proper nouns or regular nouns, SpaCy uses a specific fallback tag ('X') to indicate unrecognized or unusual tokens, which is more transparent and useful for further processing.\n",
        "\n",
        "3. How do the taggers compare on technical jargon? SpaCy performs slightly better on technical jargon. It tends to correctly tag terms like \"API\", \"JSON\", and \"authentication\" in context. NLTK can also handle technical words reasonably well, especially when the terms are common in general English. However, both taggers may struggle with highly domain-specific vocabulary unless they are fine-tuned or supported by a custom dictionary.\n",
        "\n",
        "4. What trade-offs do you see between speed and accuracy? The main trade-off between speed and accuracy lies in the depth of analysis. SpaCy offers a good balance of speed and accuracy, making it ideal for most general-purpose applications. NLTK can be more interpretable or customizable but tends to be slower and less accurate with informal or noisy text. In fast-paced environments like customer support automation or social media monitoring, SpaCy’s speed and robustness provide a clear advantage. For research or educational purposes, where deeper linguistic structure is important, NLTK may still be useful despite its slower performance.\n"
      ]
    },
    {
      "cell_type": "markdown",
      "id": "08244956",
      "metadata": {
        "id": "08244956"
      },
      "source": [
        "\n",
        "## 🚨 Lab Exercise 4: Edge Cases and Error Analysis (15 minutes)\n",
        "\n",
        "Every system has limitations. Let's explore the edge cases where POS taggers struggle and understand why.\n"
      ]
    },
    {
      "cell_type": "code",
      "execution_count": 32,
      "id": "b5e4119e",
      "metadata": {
        "id": "b5e4119e",
        "colab": {
          "base_uri": "https://localhost:8080/"
        },
        "outputId": "cb7a1c70-fad7-48e8-e9e5-90da6a619630"
      },
      "outputs": [
        {
          "output_type": "stream",
          "name": "stdout",
          "text": [
            "🚨 EDGE CASE ANALYSIS\n",
            "==================================================\n",
            "\n",
            "🔍 Edge Case 1:\n",
            "Text: Buffalo buffalo Buffalo buffalo buffalo buffalo Buffalo buffalo.\n",
            "------------------------------\n",
            "NLTK tags: [('OMG', 'IN'), ('the', 'DT'), ('algorithm', 'NN'), (\"'s\", 'POS'), ('performance', 'NN'), ('is', 'VBZ'), ('absolutely', 'RB'), ('terrible', 'JJ'), ('!', '.'), ('The', 'DT'), ('accuracy', 'NN'), ('dropped', 'VBD'), ('to', 'TO'), ('23', 'CD'), ('%', 'NN'), ('wtf', 'NN')]\n",
            "SpaCy tags: [('Buffalo', 'PROPN'), ('buffalo', 'NOUN'), ('Buffalo', 'PROPN'), ('buffalo', 'PROPN'), ('buffalo', 'PROPN'), ('buffalo', 'PROPN'), ('Buffalo', 'PROPN'), ('buffalo', 'PROPN'), ('.', 'PUNCT')]\n",
            "\n",
            "🔍 Edge Case 2:\n",
            "Text: Time flies like an arrow; fruit flies like a banana.\n",
            "------------------------------\n",
            "NLTK tags: [('OMG', 'IN'), ('the', 'DT'), ('algorithm', 'NN'), (\"'s\", 'POS'), ('performance', 'NN'), ('is', 'VBZ'), ('absolutely', 'RB'), ('terrible', 'JJ'), ('!', '.'), ('The', 'DT'), ('accuracy', 'NN'), ('dropped', 'VBD'), ('to', 'TO'), ('23', 'CD'), ('%', 'NN'), ('wtf', 'NN')]\n",
            "SpaCy tags: [('Time', 'NOUN'), ('flies', 'VERB'), ('like', 'ADP'), ('an', 'DET'), ('arrow', 'NOUN'), (';', 'PUNCT'), ('fruit', 'NOUN'), ('flies', 'NOUN'), ('like', 'ADP'), ('a', 'DET'), ('banana', 'NOUN'), ('.', 'PUNCT')]\n",
            "\n",
            "🔍 Edge Case 3:\n",
            "Text: The man the boat the river.\n",
            "------------------------------\n",
            "NLTK tags: [('OMG', 'IN'), ('the', 'DT'), ('algorithm', 'NN'), (\"'s\", 'POS'), ('performance', 'NN'), ('is', 'VBZ'), ('absolutely', 'RB'), ('terrible', 'JJ'), ('!', '.'), ('The', 'DT'), ('accuracy', 'NN'), ('dropped', 'VBD'), ('to', 'TO'), ('23', 'CD'), ('%', 'NN'), ('wtf', 'NN')]\n",
            "SpaCy tags: [('The', 'DET'), ('man', 'NOUN'), ('the', 'DET'), ('boat', 'NOUN'), ('the', 'DET'), ('river', 'NOUN'), ('.', 'PUNCT')]\n",
            "\n",
            "🔍 Edge Case 4:\n",
            "Text: Police police Police police police police Police police.\n",
            "------------------------------\n",
            "NLTK tags: [('OMG', 'IN'), ('the', 'DT'), ('algorithm', 'NN'), (\"'s\", 'POS'), ('performance', 'NN'), ('is', 'VBZ'), ('absolutely', 'RB'), ('terrible', 'JJ'), ('!', '.'), ('The', 'DT'), ('accuracy', 'NN'), ('dropped', 'VBD'), ('to', 'TO'), ('23', 'CD'), ('%', 'NN'), ('wtf', 'NN')]\n",
            "SpaCy tags: [('Police', 'NOUN'), ('police', 'NOUN'), ('Police', 'NOUN'), ('police', 'NOUN'), ('police', 'NOUN'), ('police', 'NOUN'), ('Police', 'NOUN'), ('police', 'NOUN'), ('.', 'PUNCT')]\n",
            "\n",
            "🔍 Edge Case 5:\n",
            "Text: James while John had had had had had had had had had had had a better effect on the teacher.\n",
            "------------------------------\n",
            "NLTK tags: [('OMG', 'IN'), ('the', 'DT'), ('algorithm', 'NN'), (\"'s\", 'POS'), ('performance', 'NN'), ('is', 'VBZ'), ('absolutely', 'RB'), ('terrible', 'JJ'), ('!', '.'), ('The', 'DT'), ('accuracy', 'NN'), ('dropped', 'VBD'), ('to', 'TO'), ('23', 'CD'), ('%', 'NN'), ('wtf', 'NN')]\n",
            "SpaCy tags: [('James', 'PROPN'), ('while', 'SCONJ'), ('John', 'PROPN'), ('had', 'AUX'), ('had', 'AUX'), ('had', 'AUX'), ('had', 'AUX'), ('had', 'AUX'), ('had', 'AUX'), ('had', 'AUX'), ('had', 'AUX'), ('had', 'AUX'), ('had', 'AUX'), ('had', 'VERB'), ('a', 'DET'), ('better', 'ADJ'), ('effect', 'NOUN'), ('on', 'ADP'), ('the', 'DET'), ('teacher', 'NOUN'), ('.', 'PUNCT')]\n",
            "\n",
            "🔍 Edge Case 6:\n",
            "Text: Can can can can can can can can can can.\n",
            "------------------------------\n",
            "NLTK tags: [('OMG', 'IN'), ('the', 'DT'), ('algorithm', 'NN'), (\"'s\", 'POS'), ('performance', 'NN'), ('is', 'VBZ'), ('absolutely', 'RB'), ('terrible', 'JJ'), ('!', '.'), ('The', 'DT'), ('accuracy', 'NN'), ('dropped', 'VBD'), ('to', 'TO'), ('23', 'CD'), ('%', 'NN'), ('wtf', 'NN')]\n",
            "SpaCy tags: [('Can', 'AUX'), ('can', 'AUX'), ('can', 'AUX'), ('can', 'AUX'), ('can', 'AUX'), ('can', 'AUX'), ('can', 'AUX'), ('can', 'AUX'), ('can', 'AUX'), ('can', 'VERB'), ('.', 'PUNCT')]\n",
            "\n",
            "🔍 Edge Case 7:\n",
            "Text: @username #hashtag http://bit.ly/abc123 😂🔥💯\n",
            "------------------------------\n",
            "NLTK tags: [('OMG', 'IN'), ('the', 'DT'), ('algorithm', 'NN'), (\"'s\", 'POS'), ('performance', 'NN'), ('is', 'VBZ'), ('absolutely', 'RB'), ('terrible', 'JJ'), ('!', '.'), ('The', 'DT'), ('accuracy', 'NN'), ('dropped', 'VBD'), ('to', 'TO'), ('23', 'CD'), ('%', 'NN'), ('wtf', 'NN')]\n",
            "SpaCy tags: [('@username', 'PROPN'), ('#', 'SYM'), ('hashtag', 'NOUN'), ('http://bit.ly/abc123', 'PROPN'), ('😂', 'PROPN'), ('🔥', 'X'), ('💯', 'NOUN')]\n",
            "❓ Unknown or ambiguous tokens (SpaCy): ['🔥']\n",
            "\n",
            "🔍 Edge Case 8:\n",
            "Text: COVID-19 AI/ML IoT APIs RESTful microservices\n",
            "------------------------------\n",
            "NLTK tags: [('OMG', 'IN'), ('the', 'DT'), ('algorithm', 'NN'), (\"'s\", 'POS'), ('performance', 'NN'), ('is', 'VBZ'), ('absolutely', 'RB'), ('terrible', 'JJ'), ('!', '.'), ('The', 'DT'), ('accuracy', 'NN'), ('dropped', 'VBD'), ('to', 'TO'), ('23', 'CD'), ('%', 'NN'), ('wtf', 'NN')]\n",
            "SpaCy tags: [('COVID-19', 'PROPN'), ('AI', 'PROPN'), ('/', 'SYM'), ('ML', 'PROPN'), ('IoT', 'ADJ'), ('APIs', 'NOUN'), ('RESTful', 'PART'), ('microservices', 'NOUN')]\n",
            "\n",
            "🤔 REFLECTION ON LIMITATIONS:\n",
            "========================================\n",
            "POS taggers like NLTK and SpaCy perform well on everyday language but struggle with syntactically ambiguous or deliberately complex sentences. \n",
            "In sentences such as \"Buffalo buffalo Buffalo buffalo...\" or \"Can can can can...\", the repeated words serve multiple roles (noun, verb, proper noun), \n",
            "making it difficult for statistical taggers to determine their function without deeper syntactic or semantic understanding.\n",
            "\n",
            "Taggers also fail with garden path sentences like \"The man the boat the river.\" where parsing requires full sentence context to disambiguate roles. \n",
            "In \"James while John had had...\", taggers cannot easily follow the layered use of verbs due to the unnatural structure.\n",
            "\n",
            "Social media content and modern technical jargon present other challenges. SpaCy may mark hashtags, emojis, or unknown terms as 'X', \n",
            "while NLTK may mislabel them as proper nouns or nouns arbitrarily. Domain-specific abbreviations like \"IoT\", \"RESTful\", or \"AI/ML\" \n",
            "are often tagged inconsistently unless the model was trained on similar text.\n",
            "\n",
            "Ultimately, part-of-speech taggers operate with limited context. They perform best on grammatically clean and complete sentences, \n",
            "but they are not equipped to resolve deep ambiguity, idiomatic expressions, or multi-domain jargon without fine-tuning or combining with \n",
            "syntactic parsers or transformer-based models like BERT.\n"
          ]
        }
      ],
      "source": [
        "\n",
        "# Challenging edge cases\n",
        "edge_cases = [\n",
        "    \"Buffalo buffalo Buffalo buffalo buffalo buffalo Buffalo buffalo.\",  # Famous ambiguous sentence\n",
        "    \"Time flies like an arrow; fruit flies like a banana.\",              # Classic ambiguity\n",
        "    \"The man the boat the river.\",                                       # Garden path sentence\n",
        "    \"Police police Police police police police Police police.\",          # Recursive structure\n",
        "    \"James while John had had had had had had had had had had had a better effect on the teacher.\",  # Had had had...\n",
        "    \"Can can can can can can can can can can.\",                         # Modal/noun ambiguity\n",
        "    \"@username #hashtag http://bit.ly/abc123 😂🔥💯\",                   # Social media elements\n",
        "    \"COVID-19 AI/ML IoT APIs RESTful microservices\",                    # Modern technical terms\n",
        "]\n",
        "\n",
        "print(\"🚨 EDGE CASE ANALYSIS\")\n",
        "print(\"=\" * 50)\n",
        "\n",
        "# TODO: Process each edge case and analyze failures\n",
        "for i, text in enumerate(edge_cases, 1):\n",
        "    print(f\"\\n🔍 Edge Case {i}:\")\n",
        "    print(f\"Text: {text}\")\n",
        "    print(\"-\" * 30)\n",
        "\n",
        "    try:\n",
        "        # TODO: Process with both taggers\n",
        "        nltk_tags = nltk_tags = nltk.pos_tag(tokens)\n",
        "        spacy_doc = spacy_doc = nlp(text)\n",
        "\n",
        "        # TODO: Identify potential errors or weird tags\n",
        "        # Look for: repeated tags, unusual patterns, X tags, etc.\n",
        "\n",
        "        print(\"NLTK tags:\", [(w, t) for w, t in nltk_tags])\n",
        "        print(\"SpaCy tags:\", [(token.text, token.pos_) for token in spacy_doc])\n",
        "\n",
        "        # TODO: Analyze what went wrong\n",
        "        repeated_tags = [tag for word, tag in nltk_tags if nltk_tags.count((word, tag)) > 1]\n",
        "        unknown_spacy = [token.text for token in spacy_doc if token.pos_ == \"X\"]\n",
        "\n",
        "        if repeated_tags:\n",
        "            print(\"⚠️ Repeated tags (NLTK):\", set(repeated_tags))\n",
        "        if unknown_spacy:\n",
        "            print(\"❓ Unknown or ambiguous tokens (SpaCy):\", unknown_spacy)\n",
        "\n",
        "    except Exception as e:\n",
        "        print(f\"❌ Error processing: {e}\")\n",
        "\n",
        "# Reflection on limitations\n",
        "print(\"\\n🤔 REFLECTION ON LIMITATIONS:\")\n",
        "print(\"=\" * 40)\n",
        "print(\"\"\"\\\n",
        "POS taggers like NLTK and SpaCy perform well on everyday language but struggle with syntactically ambiguous or deliberately complex sentences.\n",
        "In sentences such as \"Buffalo buffalo Buffalo buffalo...\" or \"Can can can can...\", the repeated words serve multiple roles (noun, verb, proper noun),\n",
        "making it difficult for statistical taggers to determine their function without deeper syntactic or semantic understanding.\n",
        "\n",
        "Taggers also fail with garden path sentences like \"The man the boat the river.\" where parsing requires full sentence context to disambiguate roles.\n",
        "In \"James while John had had...\", taggers cannot easily follow the layered use of verbs due to the unnatural structure.\n",
        "\n",
        "Social media content and modern technical jargon present other challenges. SpaCy may mark hashtags, emojis, or unknown terms as 'X',\n",
        "while NLTK may mislabel them as proper nouns or nouns arbitrarily. Domain-specific abbreviations like \"IoT\", \"RESTful\", or \"AI/ML\"\n",
        "are often tagged inconsistently unless the model was trained on similar text.\n",
        "\n",
        "Ultimately, part-of-speech taggers operate with limited context. They perform best on grammatically clean and complete sentences,\n",
        "but they are not equipped to resolve deep ambiguity, idiomatic expressions, or multi-domain jargon without fine-tuning or combining with\n",
        "syntactic parsers or transformer-based models like BERT.\"\"\")"
      ]
    },
    {
      "cell_type": "markdown",
      "id": "969fe260",
      "metadata": {
        "id": "969fe260"
      },
      "source": [
        "\n",
        "### 🧠 Critical Thinking Questions:\n",
        "Enter you asnwers below each question.\n",
        "1. Why do these edge cases break the taggers? These edge cases break traditional POS taggers because they rely heavily on surface-level patterns and local context. Rule-based and statistical taggers like NLTK and SpaCy use predefined grammars or probabilistic models trained on relatively standard corpora. When sentences involve repeated words serving different grammatical roles (such as in \"Buffalo buffalo Buffalo buffalo...\"), or contain intentionally ambiguous or non-standard structures (like garden path or recursive constructions), the taggers cannot disambiguate the syntax correctly. They also do not possess deep semantic understanding or long-range contextual awareness, which is necessary for resolving such complexity.\n",
        "\n",
        "2. How might you preprocess text to handle some of these issues? Preprocessing can help reduce confusion for POS taggers in several ways. For example, punctuation normalization and sentence segmentation can clarify boundaries in complex sentences. Token replacement strategies could substitute emojis, URLs, or hashtags with placeholder tokens (like <emoji> or <url>) to simplify tagging. For ambiguous or technical content, domain-specific dictionaries or custom tokenizers can improve recognition. In some cases, breaking complex sentences into simpler clauses before tagging can help taggers handle each unit more accurately. However, these strategies have limits and may not fully resolve syntactic ambiguity.\n",
        "\n",
        "3. When would these limitations matter in real applications? These limitations become critical in real-world applications where accuracy is essential. For example, in legal document processing, scientific paper analysis, or medical records, a misclassified noun or verb could lead to incorrect interpretations. In conversational AI or chatbots, misunderstanding social media language or sarcastic remarks could result in irrelevant or tone-deaf responses. In information extraction systems, errors in tagging affect downstream tasks like entity recognition, relationship detection, and sentiment analysis. In these contexts, relying solely on traditional POS tagging may compromise reliability.\n",
        "\n",
        "4. How do modern large language models handle these cases differently? Modern large language models (LLMs) like BERT, GPT, and RoBERTa handle these cases more effectively because they use deep contextual embeddings and attention mechanisms. Instead of assigning tags based on local word pairs or fixed grammar rules, LLMs consider the entire sentence (or even surrounding paragraphs) to infer meaning and grammatical roles. This allows them to resolve ambiguity, identify idiomatic expressions, and understand uncommon word usage more robustly. While they are not perfect and can still struggle with extreme edge cases, they are significantly better at handling nuance, informal language, and syntactic complexity than traditional POS taggers.\n",
        "\n",
        "---\n"
      ]
    },
    {
      "cell_type": "markdown",
      "id": "4aa06861",
      "metadata": {
        "id": "4aa06861"
      },
      "source": [
        "\n",
        "## 🎯 Final Reflection and Submission\n",
        "\n",
        "Congratulations! You've completed a comprehensive exploration of POS tagging, from basic concepts to real-world challenges.\n",
        "\n",
        "### 📝 Reflection Questions (Answer in the cell below):\n",
        "\n",
        "1. **Tool Comparison**: Based on your experience, when would you choose NLTK vs SpaCy? Consider factors like ease of use, accuracy, speed, and application type.\n",
        "\n",
        "2. **Real-World Applications**: Describe a specific business problem where POS tagging would be valuable. How would you implement it?\n",
        "\n",
        "3. **Limitations and Solutions**: What are the biggest limitations you discovered? How might you work around them?\n",
        "\n",
        "4. **Future Learning**: What aspects of POS tagging would you like to explore further? (Neural approaches, custom training, domain adaptation, etc.)\n",
        "\n",
        "5. **Integration**: How does POS tagging fit into larger NLP pipelines? What other NLP tasks might benefit from POS information?\n"
      ]
    },
    {
      "cell_type": "markdown",
      "id": "b1c5480f",
      "metadata": {
        "id": "b1c5480f"
      },
      "source": [
        "\n",
        "### ✍️ Your Reflection (Write your answers here):\n",
        "**Remember Reflection is not description!**\n",
        "\n",
        "**1. Tool Comparison:**\n",
        "I would choose SpaCy when I need fast, accurate, and robust POS tagging, especially for practical applications like real-time processing or handling informal and noisy text. SpaCy’s ease of use and modern design make it suitable for most industry projects. On the other hand, I might use NLTK when I want more control over linguistic details, work in an academic setting, or need to experiment with different tagsets or teaching purposes. NLTK is slower and sometimes less accurate on informal text but provides a strong foundation for learning the basics.\n",
        "\n",
        "**2. Real-World Applications:**\n",
        "POS tagging would be valuable in customer service analytics, where understanding the verbs, nouns, and emotional adjectives in call transcripts can help automatically categorize issues and detect urgent or frustrated customers. To implement this, I would preprocess transcripts with SpaCy to extract key POS tags, then build classifiers that use this linguistic information combined with sentiment scores to route tickets and prioritize responses effectively.\n",
        "\n",
        "**3. Limitations and Solutions:**\n",
        "The biggest limitation I discovered is that traditional POS taggers struggle with ambiguity, informal language, and complex sentence structures. To work around this, I would combine POS tagging with contextual embeddings from transformer-based models, or apply domain-specific preprocessing like normalization, token replacement, and fine-tuning taggers on the target text type. Also, integrating syntactic parsing can help resolve ambiguous cases more accurately.\n",
        "\n",
        "**4. Future Learning:**\n",
        "I want to explore neural POS tagging methods that leverage transformer architectures, such as BERT or GPT, especially focusing on fine-tuning these models for domain adaptation. Understanding how to train custom taggers on specialized corpora and improving performance on multilingual or noisy data are also areas I find compelling for future research.\n",
        "\n",
        "**5. Integration:**\n",
        "POS tagging is a foundational step in many NLP pipelines, supporting tasks such as syntactic parsing, named entity recognition, coreference resolution, and sentiment analysis. For example, knowing whether a word is a noun or verb helps disambiguate entities and extract relationships in information extraction systems. It also improves machine translation and question answering by clarifying grammatical structure, making POS tagging a crucial link in building more complex language understanding systems.\n"
      ]
    },
    {
      "cell_type": "markdown",
      "id": "e96f81e5",
      "metadata": {
        "id": "e96f81e5"
      },
      "source": [
        "\n",
        "---\n",
        "\n",
        "## 📤 Submission Checklist\n",
        "\n",
        "Before submitting your completed notebook, make sure you have:\n",
        "\n",
        "- [ ] ✅ Completed all TODO sections with working code\n",
        "- [ ] ✅ Answered all reflection questions thoughtfully\n",
        "- [ ] ✅ Created at least one meaningful visualization\n",
        "- [ ] ✅ Tested your code and fixed any errors\n",
        "- [ ] ✅ Added comments explaining your approach\n",
        "- [ ] ✅ Included insights from your analysis\n",
        "\n",
        "### 📋 Submission Instructions:\n",
        "1. **Save your notebook**: File → Save (or Ctrl+S)\n",
        "2. **Download**: File → Download → Download .ipynb\n",
        "3. **Submit**: Upload your completed notebook file to the course management system\n",
        "4. **Filename**: Use format: `L05_LastName_FirstName_ITAI2373.ipynb or pdf`  \n",
        "\n",
        "### 🏆 Grading Criteria:\n",
        "- **Code Completion (40%)**: All exercises completed with working code\n",
        "- **Analysis Quality (30%)**: Thoughtful interpretation of results\n",
        "- **Reflection Depth (20%)**: Insightful answers to reflection questions  \n",
        "- **Code Quality (10%)**: Clean, commented, well-organized code\n",
        "\n",
        "---\n",
        "\n",
        "## 🎉 Great Work!\n",
        "\n",
        "You've successfully explored the fascinating world of POS tagging! You now understand how computers parse human language and can apply these techniques to solve real-world problems.\n",
        "\n",
        "\n",
        "Keep exploring and happy coding! 🚀\n"
      ]
    }
  ],
  "metadata": {
    "colab": {
      "provenance": []
    },
    "language_info": {
      "name": "python"
    },
    "kernelspec": {
      "name": "python3",
      "display_name": "Python 3"
    }
  },
  "nbformat": 4,
  "nbformat_minor": 5
}